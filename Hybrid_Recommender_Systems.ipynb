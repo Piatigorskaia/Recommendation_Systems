{
  "nbformat": 4,
  "nbformat_minor": 0,
  "metadata": {
    "colab": {
      "provenance": []
    },
    "kernelspec": {
      "name": "python3",
      "display_name": "Python 3"
    },
    "language_info": {
      "name": "python"
    }
  },
  "cells": [
    {
      "cell_type": "markdown",
      "source": [
        "Using the MovieLens data, I will try to build a hybrid recommender system."
      ],
      "metadata": {
        "id": "T1gW8kGdGVeb"
      }
    },
    {
      "cell_type": "code",
      "execution_count": null,
      "metadata": {
        "colab": {
          "base_uri": "https://localhost:8080/"
        },
        "id": "qeXIscr38ZVp",
        "outputId": "9d6563fe-db4a-42d1-e100-304bd687b6cc"
      },
      "outputs": [
        {
          "output_type": "stream",
          "name": "stdout",
          "text": [
            "Collecting lightfm\n",
            "  Downloading lightfm-1.17.tar.gz (316 kB)\n",
            "\u001b[2K     \u001b[90m━━━━━━━━━━━━━━━━━━━━━━━━━━━━━━━━━━━━━━━━\u001b[0m \u001b[32m316.4/316.4 kB\u001b[0m \u001b[31m5.3 MB/s\u001b[0m eta \u001b[36m0:00:00\u001b[0m\n",
            "\u001b[?25h  Preparing metadata (setup.py) ... \u001b[?25l\u001b[?25hdone\n",
            "Requirement already satisfied: numpy in /usr/local/lib/python3.10/dist-packages (from lightfm) (1.25.2)\n",
            "Requirement already satisfied: scipy>=0.17.0 in /usr/local/lib/python3.10/dist-packages (from lightfm) (1.11.4)\n",
            "Requirement already satisfied: requests in /usr/local/lib/python3.10/dist-packages (from lightfm) (2.31.0)\n",
            "Requirement already satisfied: scikit-learn in /usr/local/lib/python3.10/dist-packages (from lightfm) (1.2.2)\n",
            "Requirement already satisfied: charset-normalizer<4,>=2 in /usr/local/lib/python3.10/dist-packages (from requests->lightfm) (3.3.2)\n",
            "Requirement already satisfied: idna<4,>=2.5 in /usr/local/lib/python3.10/dist-packages (from requests->lightfm) (3.7)\n",
            "Requirement already satisfied: urllib3<3,>=1.21.1 in /usr/local/lib/python3.10/dist-packages (from requests->lightfm) (2.0.7)\n",
            "Requirement already satisfied: certifi>=2017.4.17 in /usr/local/lib/python3.10/dist-packages (from requests->lightfm) (2024.6.2)\n",
            "Requirement already satisfied: joblib>=1.1.1 in /usr/local/lib/python3.10/dist-packages (from scikit-learn->lightfm) (1.4.2)\n",
            "Requirement already satisfied: threadpoolctl>=2.0.0 in /usr/local/lib/python3.10/dist-packages (from scikit-learn->lightfm) (3.5.0)\n",
            "Building wheels for collected packages: lightfm\n",
            "  Building wheel for lightfm (setup.py) ... \u001b[?25l\u001b[?25hdone\n",
            "  Created wheel for lightfm: filename=lightfm-1.17-cp310-cp310-linux_x86_64.whl size=808329 sha256=becabff1b85a15e9ce96e29427be29cbf87d762e82b622d964f4ed02deee6232\n",
            "  Stored in directory: /root/.cache/pip/wheels/4f/9b/7e/0b256f2168511d8fa4dae4fae0200fdbd729eb424a912ad636\n",
            "Successfully built lightfm\n",
            "Installing collected packages: lightfm\n",
            "Successfully installed lightfm-1.17\n"
          ]
        }
      ],
      "source": [
        "pip install lightfm"
      ]
    },
    {
      "cell_type": "code",
      "source": [
        "import pandas as pd\n",
        "from lightfm import LightFM\n",
        "from lightfm.data import Dataset"
      ],
      "metadata": {
        "id": "SvOpzdsT-ave"
      },
      "execution_count": null,
      "outputs": []
    },
    {
      "cell_type": "code",
      "source": [
        "ratings = pd.read_csv('ratings.csv')\n",
        "movies = pd.read_csv('movies.csv')"
      ],
      "metadata": {
        "id": "bZSlKOCo-lB9"
      },
      "execution_count": null,
      "outputs": []
    },
    {
      "cell_type": "code",
      "source": [
        "dataset = Dataset()"
      ],
      "metadata": {
        "id": "J_KsCH5S_NFa"
      },
      "execution_count": null,
      "outputs": []
    },
    {
      "cell_type": "code",
      "source": [
        "dataset.fit(ratings['userId'].unique(), ratings['movieId'].unique())"
      ],
      "metadata": {
        "id": "9nfa06aFBsii"
      },
      "execution_count": null,
      "outputs": []
    },
    {
      "cell_type": "code",
      "source": [
        "(interactions, weights) = dataset.build_interactions([(row['userId'], row['movieId'], row['rating']) for index, row in ratings.iterrows()])"
      ],
      "metadata": {
        "id": "BVyVZb_CaQ0V"
      },
      "execution_count": null,
      "outputs": []
    },
    {
      "cell_type": "code",
      "source": [
        "from lightfm.evaluation import precision_at_k, auc_score\n",
        "from sklearn.model_selection import train_test_split"
      ],
      "metadata": {
        "id": "za7Iq472aWlW"
      },
      "execution_count": null,
      "outputs": []
    },
    {
      "cell_type": "code",
      "source": [
        "train_interactions, test_interactions = train_test_split(interactions, test_size=0.2, random_state=42)"
      ],
      "metadata": {
        "id": "9Dlu_dpjaeKV"
      },
      "execution_count": null,
      "outputs": []
    },
    {
      "cell_type": "code",
      "source": [
        "model = LightFM(loss='warp')"
      ],
      "metadata": {
        "id": "xQi3KWBZajbN"
      },
      "execution_count": null,
      "outputs": []
    },
    {
      "cell_type": "code",
      "source": [
        "model.fit(train_interactions, epochs=30, num_threads=2)"
      ],
      "metadata": {
        "colab": {
          "base_uri": "https://localhost:8080/"
        },
        "id": "IqgwLScbaprA",
        "outputId": "278ef062-d923-4362-dcbd-4c58ec087fb5"
      },
      "execution_count": null,
      "outputs": [
        {
          "output_type": "execute_result",
          "data": {
            "text/plain": [
              "<lightfm.lightfm.LightFM at 0x7df57f0c9f00>"
            ]
          },
          "metadata": {},
          "execution_count": 10
        }
      ]
    },
    {
      "cell_type": "code",
      "source": [
        "train_precision = precision_at_k(model, train_interactions, k=5).mean()"
      ],
      "metadata": {
        "id": "f_HtebiTautU"
      },
      "execution_count": null,
      "outputs": []
    },
    {
      "cell_type": "code",
      "source": [
        "train_precision"
      ],
      "metadata": {
        "colab": {
          "base_uri": "https://localhost:8080/"
        },
        "id": "VGT5PBrDazKu",
        "outputId": "2d2000d3-9ba7-4820-d11b-666dac7ed774"
      },
      "execution_count": null,
      "outputs": [
        {
          "output_type": "execute_result",
          "data": {
            "text/plain": [
              "0.592623"
            ]
          },
          "metadata": {},
          "execution_count": 12
        }
      ]
    },
    {
      "cell_type": "code",
      "source": [
        "import numpy as np"
      ],
      "metadata": {
        "id": "Ku7AyfPabjNP"
      },
      "execution_count": null,
      "outputs": []
    },
    {
      "cell_type": "code",
      "source": [
        "def recommend(model, user_ids, item_labels, num_recommendations=5):\n",
        "    n_users, n_items = interactions.shape\n",
        "    for user_id in user_ids:\n",
        "        scores = model.predict(user_id, np.arange(n_items))\n",
        "        top_items = np.argsort(-scores)[:num_recommendations]\n",
        "        print(f'Recommendations for user {user_id}:')\n",
        "        for item in top_items:\n",
        "            print(f'    {item_labels[item]}')"
      ],
      "metadata": {
        "id": "kr5wi9zQa12Z"
      },
      "execution_count": null,
      "outputs": []
    },
    {
      "cell_type": "code",
      "source": [
        "item_labels = movies['title'].tolist()"
      ],
      "metadata": {
        "id": "QQEHsAy7bJ3n"
      },
      "execution_count": null,
      "outputs": []
    },
    {
      "cell_type": "code",
      "source": [
        "recommend(model, user_ids=[1, 2, 3], item_labels=item_labels)"
      ],
      "metadata": {
        "colab": {
          "base_uri": "https://localhost:8080/"
        },
        "id": "FXzkh3tTbObj",
        "outputId": "0f95d4d3-4acc-4129-e81e-05eb4ffba922"
      },
      "execution_count": null,
      "outputs": [
        {
          "output_type": "stream",
          "name": "stdout",
          "text": [
            "Recommendations for user 1:\n",
            "    Get Shorty (1995)\n",
            "    Cat on a Hot Tin Roof (1958)\n",
            "    Chamber, The (1996)\n",
            "    Shaggy Dog, The (1959)\n",
            "    Grace of My Heart (1996)\n",
            "Recommendations for user 2:\n",
            "    Free Willy 2: The Adventure Home (1995)\n",
            "    Private Benjamin (1980)\n",
            "    Nico Icon (1995)\n",
            "    Pocahontas (1995)\n",
            "    Bed of Roses (1996)\n",
            "Recommendations for user 3:\n",
            "    Sense and Sensibility (1995)\n",
            "    Get Shorty (1995)\n",
            "    Love Affair (1994)\n",
            "    It Takes Two (1995)\n",
            "    Waiting to Exhale (1995)\n"
          ]
        }
      ]
    }
  ]
}